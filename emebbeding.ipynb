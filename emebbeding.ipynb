{
 "cells": [
  {
   "cell_type": "code",
   "execution_count": 5,
   "id": "d35cb50c",
   "metadata": {},
   "outputs": [],
   "source": [
    "from tensorflow.keras.preprocessing.text import one_hot\n"
   ]
  },
  {
   "cell_type": "code",
   "execution_count": 6,
   "id": "b8b09bdb",
   "metadata": {},
   "outputs": [],
   "source": [
    "sent=[\n",
    "    'I love programming in Python',\n",
    "    'Python is great for data science',\n",
    "    'Data science is an exciting field',\n",
    "    'I enjoy learning new programming languages',\n",
    "    'Machine learning is a subset of data science',\n",
    "]"
   ]
  },
  {
   "cell_type": "code",
   "execution_count": 7,
   "id": "c4f02c65",
   "metadata": {},
   "outputs": [],
   "source": [
    "sent \n",
    "voc_size = 10000"
   ]
  },
  {
   "cell_type": "code",
   "execution_count": 8,
   "id": "40576bb0",
   "metadata": {},
   "outputs": [
    {
     "data": {
      "text/plain": [
       "[[1516, 8466, 3404, 2300, 7344],\n",
       " [7344, 828, 6334, 8193, 596, 9177],\n",
       " [596, 9177, 828, 2813, 242, 1424],\n",
       " [1516, 4097, 2777, 7328, 3404, 2989],\n",
       " [287, 2777, 828, 2586, 3215, 3929, 596, 9177]]"
      ]
     },
     "execution_count": 8,
     "metadata": {},
     "output_type": "execute_result"
    }
   ],
   "source": [
    "onehotre=[one_hot(words,voc_size) for words in sent]\n",
    "onehotre"
   ]
  },
  {
   "cell_type": "code",
   "execution_count": 14,
   "id": "aa1fb504",
   "metadata": {},
   "outputs": [],
   "source": [
    "#word embedding\n",
    "from tensorflow.keras.layers import Embedding\n",
    "from tensorflow.keras.utils import pad_sequences\n",
    "from tensorflow.keras.models import Sequential\n"
   ]
  },
  {
   "cell_type": "code",
   "execution_count": 15,
   "id": "c751bb6e",
   "metadata": {},
   "outputs": [],
   "source": [
    "import numpy as np\n"
   ]
  },
  {
   "cell_type": "code",
   "execution_count": 16,
   "id": "704bb716",
   "metadata": {},
   "outputs": [
    {
     "name": "stdout",
     "output_type": "stream",
     "text": [
      "[[   0    0    0 1516 8466 3404 2300 7344]\n",
      " [   0    0 7344  828 6334 8193  596 9177]\n",
      " [   0    0  596 9177  828 2813  242 1424]\n",
      " [   0    0 1516 4097 2777 7328 3404 2989]\n",
      " [ 287 2777  828 2586 3215 3929  596 9177]]\n"
     ]
    }
   ],
   "source": [
    "sent_length = 8 # padding sequences to ensure uniform length\n",
    "embedded_docs = pad_sequences(onehotre, padding='pre', maxlen=sent_length)   \n",
    "print(embedded_docs)\n",
    "\n"
   ]
  },
  {
   "cell_type": "code",
   "execution_count": 19,
   "id": "b93239ea",
   "metadata": {},
   "outputs": [
    {
     "name": "stderr",
     "output_type": "stream",
     "text": [
      "c:\\Users\\amitk\\OneDrive\\Desktop\\python\\vnev\\Lib\\site-packages\\keras\\src\\layers\\core\\embedding.py:97: UserWarning: Argument `input_length` is deprecated. Just remove it.\n",
      "  warnings.warn(\n"
     ]
    },
    {
     "name": "stdout",
     "output_type": "stream",
     "text": [
      "\u001b[1m1/1\u001b[0m \u001b[32m━━━━━━━━━━━━━━━━━━━━\u001b[0m\u001b[37m\u001b[0m \u001b[1m0s\u001b[0m 193ms/step\n"
     ]
    },
    {
     "data": {
      "text/plain": [
       "array([[[-3.08143850e-02, -4.79107499e-02,  3.94943096e-02,\n",
       "         -4.85165045e-03,  8.52383301e-03,  7.11926073e-03,\n",
       "         -4.51225638e-02, -2.51258966e-02, -2.29800697e-02,\n",
       "         -3.53219397e-02],\n",
       "        [-3.08143850e-02, -4.79107499e-02,  3.94943096e-02,\n",
       "         -4.85165045e-03,  8.52383301e-03,  7.11926073e-03,\n",
       "         -4.51225638e-02, -2.51258966e-02, -2.29800697e-02,\n",
       "         -3.53219397e-02],\n",
       "        [-3.08143850e-02, -4.79107499e-02,  3.94943096e-02,\n",
       "         -4.85165045e-03,  8.52383301e-03,  7.11926073e-03,\n",
       "         -4.51225638e-02, -2.51258966e-02, -2.29800697e-02,\n",
       "         -3.53219397e-02],\n",
       "        [-4.04948369e-02,  4.18666489e-02,  9.17861611e-03,\n",
       "          4.14150469e-02, -2.73956303e-02,  2.35891677e-02,\n",
       "         -3.49016190e-02, -3.76298316e-02,  3.18760611e-02,\n",
       "         -4.11247723e-02],\n",
       "        [-3.06556951e-02,  4.10009064e-02, -1.93201900e-02,\n",
       "         -1.94626451e-02,  1.69193782e-02,  7.49025494e-03,\n",
       "         -1.73284784e-02,  2.36292928e-03, -2.78212782e-02,\n",
       "          6.36259466e-03],\n",
       "        [ 2.43693478e-02, -1.74003951e-02,  3.50084156e-03,\n",
       "         -1.19512454e-02,  3.12950499e-02, -3.05303577e-02,\n",
       "         -1.41090155e-03, -3.27979475e-02,  4.87929918e-02,\n",
       "         -1.21320114e-02],\n",
       "        [-5.78489155e-03, -2.95201670e-02,  1.59233809e-03,\n",
       "          2.86333226e-02, -2.18514688e-02, -3.33742388e-02,\n",
       "         -3.45897563e-02, -1.43235102e-02, -4.76243384e-02,\n",
       "         -2.41397694e-03],\n",
       "        [-3.56956609e-02,  2.05480568e-02,  1.05405450e-02,\n",
       "         -2.46235374e-02,  3.93729918e-02,  3.93226482e-02,\n",
       "         -4.11492959e-02,  3.20159905e-02,  5.60395420e-05,\n",
       "          3.74533981e-03]],\n",
       "\n",
       "       [[-3.08143850e-02, -4.79107499e-02,  3.94943096e-02,\n",
       "         -4.85165045e-03,  8.52383301e-03,  7.11926073e-03,\n",
       "         -4.51225638e-02, -2.51258966e-02, -2.29800697e-02,\n",
       "         -3.53219397e-02],\n",
       "        [-3.08143850e-02, -4.79107499e-02,  3.94943096e-02,\n",
       "         -4.85165045e-03,  8.52383301e-03,  7.11926073e-03,\n",
       "         -4.51225638e-02, -2.51258966e-02, -2.29800697e-02,\n",
       "         -3.53219397e-02],\n",
       "        [-3.56956609e-02,  2.05480568e-02,  1.05405450e-02,\n",
       "         -2.46235374e-02,  3.93729918e-02,  3.93226482e-02,\n",
       "         -4.11492959e-02,  3.20159905e-02,  5.60395420e-05,\n",
       "          3.74533981e-03],\n",
       "        [-4.40711267e-02, -1.63045637e-02, -3.07919029e-02,\n",
       "         -4.52072285e-02,  1.97783373e-02, -8.56231526e-03,\n",
       "         -1.71665177e-02, -3.05086132e-02,  5.73264435e-03,\n",
       "         -4.15268317e-02],\n",
       "        [-3.30175161e-02, -2.24303491e-02, -2.29525566e-02,\n",
       "          4.26129587e-02, -1.67791955e-02,  4.79636304e-02,\n",
       "          4.56846245e-02, -1.81398503e-02, -1.99837815e-02,\n",
       "         -2.36708876e-02],\n",
       "        [ 4.15111519e-02, -2.76359916e-02, -1.75815448e-02,\n",
       "          1.60407275e-04, -3.84534225e-02, -5.44364378e-03,\n",
       "          3.68824340e-02, -2.48533972e-02, -3.17448266e-02,\n",
       "         -2.70919688e-02],\n",
       "        [ 4.23119105e-02,  1.72427185e-02, -4.13786545e-02,\n",
       "         -1.47976168e-02, -2.73936875e-02,  1.24640577e-02,\n",
       "          5.89741394e-03, -2.65369900e-02, -1.52073801e-04,\n",
       "         -4.05998006e-02],\n",
       "        [-3.98515947e-02, -4.80419062e-02,  2.44629048e-02,\n",
       "         -2.00157240e-03, -1.77168250e-02,  1.40442140e-02,\n",
       "         -8.82961601e-03, -1.25126354e-02, -3.96758541e-02,\n",
       "          2.73422152e-03]],\n",
       "\n",
       "       [[-3.08143850e-02, -4.79107499e-02,  3.94943096e-02,\n",
       "         -4.85165045e-03,  8.52383301e-03,  7.11926073e-03,\n",
       "         -4.51225638e-02, -2.51258966e-02, -2.29800697e-02,\n",
       "         -3.53219397e-02],\n",
       "        [-3.08143850e-02, -4.79107499e-02,  3.94943096e-02,\n",
       "         -4.85165045e-03,  8.52383301e-03,  7.11926073e-03,\n",
       "         -4.51225638e-02, -2.51258966e-02, -2.29800697e-02,\n",
       "         -3.53219397e-02],\n",
       "        [ 4.23119105e-02,  1.72427185e-02, -4.13786545e-02,\n",
       "         -1.47976168e-02, -2.73936875e-02,  1.24640577e-02,\n",
       "          5.89741394e-03, -2.65369900e-02, -1.52073801e-04,\n",
       "         -4.05998006e-02],\n",
       "        [-3.98515947e-02, -4.80419062e-02,  2.44629048e-02,\n",
       "         -2.00157240e-03, -1.77168250e-02,  1.40442140e-02,\n",
       "         -8.82961601e-03, -1.25126354e-02, -3.96758541e-02,\n",
       "          2.73422152e-03],\n",
       "        [-4.40711267e-02, -1.63045637e-02, -3.07919029e-02,\n",
       "         -4.52072285e-02,  1.97783373e-02, -8.56231526e-03,\n",
       "         -1.71665177e-02, -3.05086132e-02,  5.73264435e-03,\n",
       "         -4.15268317e-02],\n",
       "        [-1.11645572e-02, -1.03691965e-03,  7.63462856e-03,\n",
       "          2.99520530e-02, -1.66102163e-02, -3.72370854e-02,\n",
       "          4.89545949e-02,  1.40834972e-03,  2.56396644e-02,\n",
       "         -1.95506942e-02],\n",
       "        [ 1.01049319e-02, -2.45141275e-02,  2.30810530e-02,\n",
       "         -2.34610196e-02, -2.10157782e-03, -1.19844452e-02,\n",
       "         -1.66952610e-04, -1.08051412e-02,  2.22298391e-02,\n",
       "         -3.87768745e-02],\n",
       "        [ 3.53401788e-02,  2.00267695e-02,  1.41913407e-02,\n",
       "          4.37720902e-02, -2.89654490e-02,  4.20703404e-02,\n",
       "          1.78082697e-02, -4.53097820e-02,  4.73535769e-02,\n",
       "          3.47182862e-02]],\n",
       "\n",
       "       [[-3.08143850e-02, -4.79107499e-02,  3.94943096e-02,\n",
       "         -4.85165045e-03,  8.52383301e-03,  7.11926073e-03,\n",
       "         -4.51225638e-02, -2.51258966e-02, -2.29800697e-02,\n",
       "         -3.53219397e-02],\n",
       "        [-3.08143850e-02, -4.79107499e-02,  3.94943096e-02,\n",
       "         -4.85165045e-03,  8.52383301e-03,  7.11926073e-03,\n",
       "         -4.51225638e-02, -2.51258966e-02, -2.29800697e-02,\n",
       "         -3.53219397e-02],\n",
       "        [-4.04948369e-02,  4.18666489e-02,  9.17861611e-03,\n",
       "          4.14150469e-02, -2.73956303e-02,  2.35891677e-02,\n",
       "         -3.49016190e-02, -3.76298316e-02,  3.18760611e-02,\n",
       "         -4.11247723e-02],\n",
       "        [ 2.94419788e-02, -2.10348368e-02,  1.15212314e-02,\n",
       "          2.68136375e-02, -1.88145638e-02,  2.28390954e-02,\n",
       "          1.22316591e-02,  2.72044279e-02,  2.44804658e-02,\n",
       "          3.26253101e-03],\n",
       "        [-2.06420179e-02, -4.20144312e-02, -3.29774506e-02,\n",
       "          3.41759436e-02, -4.00959030e-02,  4.22594212e-02,\n",
       "          4.86691110e-02, -4.62426431e-02, -1.70391686e-02,\n",
       "         -4.83125560e-02],\n",
       "        [ 1.32060759e-02, -3.46339345e-02,  1.46311782e-02,\n",
       "         -1.17552988e-02, -1.01789832e-02, -5.85145876e-03,\n",
       "          2.90274285e-02, -3.71871591e-02, -1.99974179e-02,\n",
       "         -2.52663251e-02],\n",
       "        [ 2.43693478e-02, -1.74003951e-02,  3.50084156e-03,\n",
       "         -1.19512454e-02,  3.12950499e-02, -3.05303577e-02,\n",
       "         -1.41090155e-03, -3.27979475e-02,  4.87929918e-02,\n",
       "         -1.21320114e-02],\n",
       "        [ 1.62284635e-02, -4.49998304e-03,  2.70589851e-02,\n",
       "          1.06953867e-02,  1.20970011e-02,  1.05857365e-02,\n",
       "          4.01501916e-02,  7.60706514e-03,  2.05589049e-02,\n",
       "         -3.17939669e-02]],\n",
       "\n",
       "       [[ 1.76130794e-02,  4.78384160e-02, -8.91105086e-03,\n",
       "          4.93317284e-02,  9.66488197e-03, -4.59652543e-02,\n",
       "         -2.32773423e-02, -5.35853952e-03,  1.45087130e-02,\n",
       "          1.02546439e-02],\n",
       "        [-2.06420179e-02, -4.20144312e-02, -3.29774506e-02,\n",
       "          3.41759436e-02, -4.00959030e-02,  4.22594212e-02,\n",
       "          4.86691110e-02, -4.62426431e-02, -1.70391686e-02,\n",
       "         -4.83125560e-02],\n",
       "        [-4.40711267e-02, -1.63045637e-02, -3.07919029e-02,\n",
       "         -4.52072285e-02,  1.97783373e-02, -8.56231526e-03,\n",
       "         -1.71665177e-02, -3.05086132e-02,  5.73264435e-03,\n",
       "         -4.15268317e-02],\n",
       "        [-3.53914388e-02,  1.56848542e-02,  3.72333042e-02,\n",
       "         -5.26739284e-03,  1.12947449e-02,  1.49171427e-03,\n",
       "          3.82264592e-02, -2.79281624e-02, -1.95733458e-03,\n",
       "         -3.69912758e-02],\n",
       "        [ 2.48147175e-03, -1.88490283e-02,  4.15090062e-02,\n",
       "         -3.08042523e-02, -4.15666215e-02,  3.72678749e-02,\n",
       "          4.71422710e-02,  7.28220865e-03, -1.35335438e-02,\n",
       "         -3.52565646e-02],\n",
       "        [ 1.79214366e-02,  4.80197184e-02, -2.54805684e-02,\n",
       "          4.50592972e-02, -2.09395960e-03, -4.60735448e-02,\n",
       "          6.79912418e-03, -4.97630350e-02, -2.34651323e-02,\n",
       "          1.05963834e-02],\n",
       "        [ 4.23119105e-02,  1.72427185e-02, -4.13786545e-02,\n",
       "         -1.47976168e-02, -2.73936875e-02,  1.24640577e-02,\n",
       "          5.89741394e-03, -2.65369900e-02, -1.52073801e-04,\n",
       "         -4.05998006e-02],\n",
       "        [-3.98515947e-02, -4.80419062e-02,  2.44629048e-02,\n",
       "         -2.00157240e-03, -1.77168250e-02,  1.40442140e-02,\n",
       "         -8.82961601e-03, -1.25126354e-02, -3.96758541e-02,\n",
       "          2.73422152e-03]]], dtype=float32)"
      ]
     },
     "execution_count": 19,
     "metadata": {},
     "output_type": "execute_result"
    }
   ],
   "source": [
    "# feature representation\n",
    "dim=10 ## dimention of embedding vector\n",
    "model = Sequential()\n",
    "model.add(Embedding(voc_size, dim, input_length=sent_length))\n",
    "model.compile('adam', 'mse') \n",
    "\n",
    "# Build the model by running a forward pass (optional, ensures model.summary() works)\n",
    "model.predict(embedded_docs)"
   ]
  },
  {
   "cell_type": "code",
   "execution_count": 20,
   "id": "68785cd6",
   "metadata": {},
   "outputs": [
    {
     "data": {
      "text/html": [
       "<pre style=\"white-space:pre;overflow-x:auto;line-height:normal;font-family:Menlo,'DejaVu Sans Mono',consolas,'Courier New',monospace\"><span style=\"font-weight: bold\">Model: \"sequential_1\"</span>\n",
       "</pre>\n"
      ],
      "text/plain": [
       "\u001b[1mModel: \"sequential_1\"\u001b[0m\n"
      ]
     },
     "metadata": {},
     "output_type": "display_data"
    },
    {
     "data": {
      "text/html": [
       "<pre style=\"white-space:pre;overflow-x:auto;line-height:normal;font-family:Menlo,'DejaVu Sans Mono',consolas,'Courier New',monospace\">┏━━━━━━━━━━━━━━━━━━━━━━━━━━━━━━━━━┳━━━━━━━━━━━━━━━━━━━━━━━━┳━━━━━━━━━━━━━━━┓\n",
       "┃<span style=\"font-weight: bold\"> Layer (type)                    </span>┃<span style=\"font-weight: bold\"> Output Shape           </span>┃<span style=\"font-weight: bold\">       Param # </span>┃\n",
       "┡━━━━━━━━━━━━━━━━━━━━━━━━━━━━━━━━━╇━━━━━━━━━━━━━━━━━━━━━━━━╇━━━━━━━━━━━━━━━┩\n",
       "│ embedding_1 (<span style=\"color: #0087ff; text-decoration-color: #0087ff\">Embedding</span>)         │ (<span style=\"color: #00af00; text-decoration-color: #00af00\">5</span>, <span style=\"color: #00af00; text-decoration-color: #00af00\">8</span>, <span style=\"color: #00af00; text-decoration-color: #00af00\">10</span>)             │       <span style=\"color: #00af00; text-decoration-color: #00af00\">100,000</span> │\n",
       "└─────────────────────────────────┴────────────────────────┴───────────────┘\n",
       "</pre>\n"
      ],
      "text/plain": [
       "┏━━━━━━━━━━━━━━━━━━━━━━━━━━━━━━━━━┳━━━━━━━━━━━━━━━━━━━━━━━━┳━━━━━━━━━━━━━━━┓\n",
       "┃\u001b[1m \u001b[0m\u001b[1mLayer (type)                   \u001b[0m\u001b[1m \u001b[0m┃\u001b[1m \u001b[0m\u001b[1mOutput Shape          \u001b[0m\u001b[1m \u001b[0m┃\u001b[1m \u001b[0m\u001b[1m      Param #\u001b[0m\u001b[1m \u001b[0m┃\n",
       "┡━━━━━━━━━━━━━━━━━━━━━━━━━━━━━━━━━╇━━━━━━━━━━━━━━━━━━━━━━━━╇━━━━━━━━━━━━━━━┩\n",
       "│ embedding_1 (\u001b[38;5;33mEmbedding\u001b[0m)         │ (\u001b[38;5;34m5\u001b[0m, \u001b[38;5;34m8\u001b[0m, \u001b[38;5;34m10\u001b[0m)             │       \u001b[38;5;34m100,000\u001b[0m │\n",
       "└─────────────────────────────────┴────────────────────────┴───────────────┘\n"
      ]
     },
     "metadata": {},
     "output_type": "display_data"
    },
    {
     "data": {
      "text/html": [
       "<pre style=\"white-space:pre;overflow-x:auto;line-height:normal;font-family:Menlo,'DejaVu Sans Mono',consolas,'Courier New',monospace\"><span style=\"font-weight: bold\"> Total params: </span><span style=\"color: #00af00; text-decoration-color: #00af00\">100,000</span> (390.62 KB)\n",
       "</pre>\n"
      ],
      "text/plain": [
       "\u001b[1m Total params: \u001b[0m\u001b[38;5;34m100,000\u001b[0m (390.62 KB)\n"
      ]
     },
     "metadata": {},
     "output_type": "display_data"
    },
    {
     "data": {
      "text/html": [
       "<pre style=\"white-space:pre;overflow-x:auto;line-height:normal;font-family:Menlo,'DejaVu Sans Mono',consolas,'Courier New',monospace\"><span style=\"font-weight: bold\"> Trainable params: </span><span style=\"color: #00af00; text-decoration-color: #00af00\">100,000</span> (390.62 KB)\n",
       "</pre>\n"
      ],
      "text/plain": [
       "\u001b[1m Trainable params: \u001b[0m\u001b[38;5;34m100,000\u001b[0m (390.62 KB)\n"
      ]
     },
     "metadata": {},
     "output_type": "display_data"
    },
    {
     "data": {
      "text/html": [
       "<pre style=\"white-space:pre;overflow-x:auto;line-height:normal;font-family:Menlo,'DejaVu Sans Mono',consolas,'Courier New',monospace\"><span style=\"font-weight: bold\"> Non-trainable params: </span><span style=\"color: #00af00; text-decoration-color: #00af00\">0</span> (0.00 B)\n",
       "</pre>\n"
      ],
      "text/plain": [
       "\u001b[1m Non-trainable params: \u001b[0m\u001b[38;5;34m0\u001b[0m (0.00 B)\n"
      ]
     },
     "metadata": {},
     "output_type": "display_data"
    }
   ],
   "source": [
    "model.summary()\n"
   ]
  },
  {
   "cell_type": "code",
   "execution_count": null,
   "id": "e74ec197",
   "metadata": {},
   "outputs": [],
   "source": [
    " \n"
   ]
  },
  {
   "cell_type": "code",
   "execution_count": null,
   "id": "aab129fa",
   "metadata": {},
   "outputs": [],
   "source": []
  }
 ],
 "metadata": {
  "kernelspec": {
   "display_name": "Python 3",
   "language": "python",
   "name": "python3"
  },
  "language_info": {
   "codemirror_mode": {
    "name": "ipython",
    "version": 3
   },
   "file_extension": ".py",
   "mimetype": "text/x-python",
   "name": "python",
   "nbconvert_exporter": "python",
   "pygments_lexer": "ipython3",
   "version": "3.11.11"
  }
 },
 "nbformat": 4,
 "nbformat_minor": 5
}
